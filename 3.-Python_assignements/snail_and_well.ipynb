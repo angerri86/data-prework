{
 "cells": [
  {
   "cell_type": "code",
   "execution_count": 25,
   "metadata": {},
   "outputs": [
    {
     "name": "stdout",
     "output_type": "stream",
     "text": [
      "11\n",
      "The snail escaped in 11 days.\n"
     ]
    }
   ],
   "source": [
    "# THE SNAIL AND THE WELL\n",
    "\n",
    "# TASK 1:\n",
    "well_height = 125\n",
    "daily_distance = 30\n",
    "nightly_distance = -20\n",
    "snail_position = 0\n",
    "\n",
    "# TASK 2:\n",
    "days = 0\n",
    "snail_in_well = True\n",
    "\n",
    "while snail_in_well:\n",
    "    snail_position = snail_position + daily_distance\n",
    "    days = days + 1\n",
    "    if snail_position >= well_height:\n",
    "        break\n",
    "    snail_position = snail_position + nightly_distance\n",
    "print(days) #--> TASK 3\n",
    "                \n",
    "# TASK 4:\n",
    "print('The snail escaped in', days, 'days.')"
   ]
  },
  {
   "cell_type": "code",
   "execution_count": 44,
   "metadata": {},
   "outputs": [
    {
     "name": "stdout",
     "output_type": "stream",
     "text": [
      "The snail escaped in 11 days.\n",
      "It's maximum displacement in one day is 77 cm.\n",
      "It's minimum displacement in one day is 12 cm.\n",
      "The average progress of the snail is 38.09090909090909 cm per day.\n",
      "The standard deviation is -2.5837917664003644e-15 with respect to the mean.\n"
     ]
    }
   ],
   "source": [
    "# THE SNAIL AND THE WELL BONUS\n",
    "\n",
    "well_height = 125\n",
    "advance_cm = [30, 21, 33, 77, 44, 45, 23, 45, 12, 34, 55]\n",
    "nightly_distance = -20\n",
    "snail_position = 0\n",
    "days = 0\n",
    "snail_in_well = True\n",
    "\n",
    "# BONUS 1:\n",
    "count = 0\n",
    "\n",
    "while snail_in_well:\n",
    "    snail_position = snail_position + advance_cm[count]\n",
    "    days = days + 1\n",
    "    if snail_position >= well_height:\n",
    "        break\n",
    "    snail_position = snail_position + nightly_distance\n",
    "print('The snail escaped in', days, 'days.')\n",
    "\n",
    "# BONUS 2\n",
    "print(\"It's maximum displacement in one day is\", max(advance_cm),\"cm.\")\n",
    "print(\"It's minimum displacement in one day is\", min(advance_cm),\"cm.\")\n",
    "\n",
    "# BONUS 3:\n",
    "average_progress = sum(advance_cm) / len(advance_cm)\n",
    "print(\"The average progress of the snail is\", average_progress, \"cm per day.\")\n",
    "\n",
    "# BONUS 4:\n",
    "standard_deviation = sum([(cm - mean) for cm in advance_cm]) / len(advance_cm)\n",
    "print(\"The standard deviation is\", standard_deviation, \"with respect to the mean.\")"
   ]
  },
  {
   "cell_type": "code",
   "execution_count": null,
   "metadata": {},
   "outputs": [],
   "source": []
  }
 ],
 "metadata": {
  "kernelspec": {
   "display_name": "Python 3",
   "language": "python",
   "name": "python3"
  },
  "language_info": {
   "codemirror_mode": {
    "name": "ipython",
    "version": 3
   },
   "file_extension": ".py",
   "mimetype": "text/x-python",
   "name": "python",
   "nbconvert_exporter": "python",
   "pygments_lexer": "ipython3",
   "version": "3.8.3"
  }
 },
 "nbformat": 4,
 "nbformat_minor": 4
}
