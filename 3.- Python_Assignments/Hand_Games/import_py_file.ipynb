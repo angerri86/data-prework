{
 "cells": [
  {
   "cell_type": "code",
   "execution_count": null,
   "metadata": {},
   "outputs": [],
   "source": [
    "# OPEN THE HAND_GAME FILE AND CHANGE THE PATH OF BOTH GAMES (Line 9 in this piece of code).\n",
    "\n",
    "# I LET MY PATHS IN THE HAND_GAME.PY SO YOU CAN FOLLOW THEM.\n",
    "\n",
    "# IF YOU HAVE SOME TROUBLES, CHECK THIS VIDEO: https://www.youtube.com/watch?v=AAfy0-AWg-A\n",
    "\n",
    "from subprocess import call\n",
    "class run_file(object):\n",
    "    def __init__(file, path = 'PATH WHERE YOU SAVED THE FILES'):\n",
    "        file.path = path\n",
    "    def call_python_file(file):\n",
    "        call(['python3', '{}'.format(file.path)])\n",
    "if __name__ == '__main__':\n",
    "    c = run_file()\n",
    "    c.call_python_file()\n"
   ]
  }
 ],
 "metadata": {
  "kernelspec": {
   "display_name": "Python 3",
   "language": "python",
   "name": "python3"
  },
  "language_info": {
   "codemirror_mode": {
    "name": "ipython",
    "version": 3
   },
   "file_extension": ".py",
   "mimetype": "text/x-python",
   "name": "python",
   "nbconvert_exporter": "python",
   "pygments_lexer": "ipython3",
   "version": "3.8.3"
  }
 },
 "nbformat": 4,
 "nbformat_minor": 4
}
