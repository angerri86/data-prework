{
 "cells": [
  {
   "cell_type": "code",
   "execution_count": 1,
   "metadata": {},
   "outputs": [
    {
     "name": "stdout",
     "output_type": "stream",
     "text": [
      "TASK 1: There are 9 stops.\n",
      "TASK 2: Bus stop 1 : 10 passengers on the bus.\n",
      "TASK 2: Bus stop 2 : 13 passengers on the bus.\n",
      "TASK 2: Bus stop 3 : 11 passengers on the bus.\n",
      "TASK 2: Bus stop 4 : 10 passengers on the bus.\n",
      "TASK 2: Bus stop 5 : 14 passengers on the bus.\n",
      "TASK 2: Bus stop 6 : 10 passengers on the bus.\n",
      "TASK 2: Bus stop 7 : 7 passengers on the bus.\n",
      "TASK 2: Bus stop 8 : 5 passengers on the bus.\n",
      "TASK 2: Bus stop 9 : 4 passengers on the bus.\n",
      "TASK 3: The maximum ocupation on the bus is 14\n",
      "TASK 4: The average ocupation on the bus is 9.333333333333334\n",
      "TASK 4: The standard deviation of the bus average ocupation is 5.921189464667501e-16 respect to the average ocupation.\n"
     ]
    }
   ],
   "source": [
    "# BUS\n",
    "\n",
    "# Variables\n",
    "stops = [(10, 0), (4, 1), (3, 5), (3, 4), (5, 1), (1, 5), (5, 8), (4, 6), (2, 3)]\n",
    "\n",
    "# TASK: 1\n",
    "print('TASK 1: There are', len(stops), 'stops.')\n",
    "\n",
    "# TASK 2: \n",
    "\n",
    "bus_passengers = 0\n",
    "bus_stop = 0\n",
    "bus_passengers_list = []\n",
    "\n",
    "for passengers_in, passengers_out in stops:\n",
    "    bus_passengers += passengers_in - passengers_out\n",
    "    bus_passengers_list.append(bus_passengers)\n",
    "    bus_stop += 1\n",
    "    while bus_stop <= len(stops):\n",
    "        print('TASK 2: Bus stop', bus_stop,':', bus_passengers, 'passengers on the bus.')\n",
    "        break\n",
    "    while bus_stop == len(stops):\n",
    "        maximum_ocupation = max(bus_passengers_list)\n",
    "        average_ocupation = sum(bus_passengers_list) / len(bus_passengers_list) \n",
    "        standard_deviation = sum([(average_ocupation - passengers) for passengers in bus_passengers_list]) / len(bus_passengers_list)\n",
    "        break\n",
    "                                  \n",
    "# TASK 3:\n",
    "print('TASK 3: The maximum ocupation on the bus is', maximum_ocupation)\n",
    "\n",
    "# TASK 4:\n",
    "print('TASK 4: The average ocupation on the bus is', average_ocupation)\n",
    "print('TASK 4: The standard deviation of the bus average ocupation is', standard_deviation, 'respect to the average ocupation.')"
   ]
  }
 ],
 "metadata": {
  "kernelspec": {
   "display_name": "Python 3",
   "language": "python",
   "name": "python3"
  },
  "language_info": {
   "codemirror_mode": {
    "name": "ipython",
    "version": 3
   },
   "file_extension": ".py",
   "mimetype": "text/x-python",
   "name": "python",
   "nbconvert_exporter": "python",
   "pygments_lexer": "ipython3",
   "version": "3.8.3"
  }
 },
 "nbformat": 4,
 "nbformat_minor": 4
}
